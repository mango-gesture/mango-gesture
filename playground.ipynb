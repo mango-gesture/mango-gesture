{
 "cells": [
  {
   "cell_type": "code",
   "execution_count": 17,
   "metadata": {},
   "outputs": [],
   "source": [
    "import jax\n",
    "import jax.numpy as jnp\n",
    "import inference.mlp as mlp\n",
    "import subprocess"
   ]
  },
  {
   "cell_type": "code",
   "execution_count": 12,
   "metadata": {},
   "outputs": [],
   "source": [
    "c = 1\n",
    "h = 30\n",
    "w = 40\n",
    "sizes = [512, 256]\n",
    "output = 3\n",
    "\n",
    "cfg = mlp.MLP_config(\n",
    "    c = c, \n",
    "    h = h,\n",
    "    w = w,\n",
    "    sizes = sizes,\n",
    "    output = output,\n",
    "    name = \"test_mult_outputs\"\n",
    ")\n",
    "\n",
    "mlp.save_cfg(cfg, \"weights/\" + cfg.name)\n",
    "\n",
    "key = jax.random.PRNGKey(0)\n",
    "\n",
    "weights = mlp.qs_mlp(cfg.c, cfg.h, cfg.w, cfg.sizes, key, cfg.output)"
   ]
  },
  {
   "cell_type": "code",
   "execution_count": 13,
   "metadata": {},
   "outputs": [],
   "source": [
    "import pickle\n",
    "\n",
    "# Specify the file path\n",
    "file_path = \"weights/test_mult_outputs.pkl\"\n",
    "\n",
    "# Save the weights to the file\n",
    "with open(file_path, \"wb\") as file:\n",
    "    pickle.dump(weights, file)\n",
    "\n",
    "# Load the weights from the file\n",
    "with open(file_path, \"rb\") as file:\n",
    "    loaded_weights = pickle.load(file)\n",
    "\n",
    "# Check if the loaded weights are the same as the original weights\n",
    "for i in range(len(weights)):\n",
    "    for j in range(len(weights[i])):\n",
    "        assert jnp.allclose(weights[i][j], loaded_weights[i][j])"
   ]
  },
  {
   "cell_type": "code",
   "execution_count": 14,
   "metadata": {},
   "outputs": [
    {
     "name": "stdout",
     "output_type": "stream",
     "text": [
      "5445672\n"
     ]
    }
   ],
   "source": [
    "import os\n",
    "file_path = \"weights/test_mult_outputs.bin\"\n",
    "mlp.mlp_serialize_binary(weights, file_path)\n",
    "print(os.path.getsize(file_path))\n"
   ]
  },
  {
   "cell_type": "code",
   "execution_count": 15,
   "metadata": {},
   "outputs": [],
   "source": [
    "with open('weights/test_mult_outputs.pkl', 'rb') as file:\n",
    "    loaded_weights = pickle.load(file)\n",
    "    \n",
    "x = jnp.ones((2, c, h, w), dtype=jnp.float32).flatten()\n",
    "output = mlp.mlp_forward(loaded_weights, x)\n"
   ]
  },
  {
   "cell_type": "code",
   "execution_count": 6,
   "metadata": {},
   "outputs": [
    {
     "data": {
      "text/plain": [
       "Array([7.180218e-05, 3.698504e-03, 2.177698e-02], dtype=float32)"
      ]
     },
     "execution_count": 6,
     "metadata": {},
     "output_type": "execute_result"
    }
   ],
   "source": [
    "output"
   ]
  },
  {
   "cell_type": "code",
   "execution_count": 16,
   "metadata": {},
   "outputs": [
    {
     "data": {
      "text/plain": [
       "Array([0.        , 0.        , 0.00130664], dtype=float32)"
      ]
     },
     "execution_count": 16,
     "metadata": {},
     "output_type": "execute_result"
    }
   ],
   "source": [
    "x = jnp.zeros((2, c, h, w), dtype=jnp.float32).flatten()\n",
    "output = mlp.mlp_forward(loaded_weights, x)\n",
    "output"
   ]
  },
  {
   "cell_type": "code",
   "execution_count": 7,
   "metadata": {},
   "outputs": [
    {
     "data": {
      "text/plain": [
       "949392512"
      ]
     },
     "execution_count": 7,
     "metadata": {},
     "output_type": "execute_result"
    }
   ],
   "source": [
    "import struct\n",
    "\n",
    "float_value = output[0]\n",
    "\n",
    "byte_representation = struct.pack('f', float_value)\n",
    "integer_representation = struct.unpack('I', byte_representation)[0]\n",
    "integer_representation\n"
   ]
  },
  {
   "cell_type": "code",
   "execution_count": 8,
   "metadata": {},
   "outputs": [
    {
     "data": {
      "text/plain": [
       "0.009889057837426662"
      ]
     },
     "execution_count": 8,
     "metadata": {},
     "output_type": "execute_result"
    }
   ],
   "source": [
    "#now convert the integer back to float\n",
    "integer_representation = 1008862647\n",
    "byte_representation = struct.pack('I', integer_representation)\n",
    "float_value = struct.unpack('f', byte_representation)[0]\n",
    "float_value"
   ]
  }
 ],
 "metadata": {
  "kernelspec": {
   "display_name": "jax",
   "language": "python",
   "name": "python3"
  },
  "language_info": {
   "codemirror_mode": {
    "name": "ipython",
    "version": 3
   },
   "file_extension": ".py",
   "mimetype": "text/x-python",
   "name": "python",
   "nbconvert_exporter": "python",
   "pygments_lexer": "ipython3",
   "version": "3.9.18"
  }
 },
 "nbformat": 4,
 "nbformat_minor": 2
}
