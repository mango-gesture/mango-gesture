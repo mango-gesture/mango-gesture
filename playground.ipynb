{
 "cells": [
  {
   "cell_type": "code",
   "execution_count": 43,
   "metadata": {},
   "outputs": [],
   "source": [
    "import jax\n",
    "import jax.numpy as jnp\n",
    "import inference.mlp as mlp"
   ]
  },
  {
   "cell_type": "code",
   "execution_count": 35,
   "metadata": {},
   "outputs": [],
   "source": [
    "c = 1\n",
    "h = 30\n",
    "w = 40\n",
    "sizes = [512, 256]\n",
    "\n",
    "key = jax.random.PRNGKey(42)\n",
    "\n",
    "weights = mlp.qs_mlp(c, h, w, sizes, key, 1)"
   ]
  },
  {
   "cell_type": "code",
   "execution_count": 36,
   "metadata": {},
   "outputs": [],
   "source": [
    "import pickle\n",
    "\n",
    "# Specify the file path\n",
    "file_path = \"weights/weights_medium.pkl\"\n",
    "\n",
    "# Save the weights to the file\n",
    "with open(file_path, \"wb\") as file:\n",
    "    pickle.dump(weights, file)\n",
    "\n",
    "# Load the weights from the file\n",
    "with open(file_path, \"rb\") as file:\n",
    "    loaded_weights = pickle.load(file)\n",
    "\n",
    "# Check if the loaded weights are the same as the original weights\n",
    "for i in range(len(weights)):\n",
    "    for j in range(len(weights[i])):\n",
    "        assert jnp.allclose(weights[i][j], loaded_weights[i][j])"
   ]
  },
  {
   "cell_type": "code",
   "execution_count": 37,
   "metadata": {},
   "outputs": [
    {
     "name": "stdout",
     "output_type": "stream",
     "text": [
      "5443616\n"
     ]
    }
   ],
   "source": [
    "import os\n",
    "file_path = \"weights/weights_medium.bin\"\n",
    "mlp.mlp_serialize_binary(weights, file_path)\n",
    "print(os.path.getsize(file_path))\n"
   ]
  },
  {
   "cell_type": "code",
   "execution_count": 44,
   "metadata": {},
   "outputs": [],
   "source": [
    "with open('weights/weights_medium.pkl', 'rb') as file:\n",
    "    loaded_weights = pickle.load(file)\n",
    "    \n",
    "x = jnp.ones((2, c, h, w), dtype=jnp.float32).flatten()\n",
    "output = mlp.mlp_forward(loaded_weights, x)\n"
   ]
  },
  {
   "cell_type": "code",
   "execution_count": 45,
   "metadata": {},
   "outputs": [
    {
     "data": {
      "text/plain": [
       "Array([0.00065165], dtype=float32)"
      ]
     },
     "execution_count": 45,
     "metadata": {},
     "output_type": "execute_result"
    }
   ],
   "source": [
    "output"
   ]
  },
  {
   "cell_type": "code",
   "execution_count": 7,
   "metadata": {},
   "outputs": [
    {
     "data": {
      "text/plain": [
       "Array([0.01435139], dtype=float32)"
      ]
     },
     "execution_count": 7,
     "metadata": {},
     "output_type": "execute_result"
    }
   ],
   "source": [
    "x = jnp.zeros((2, c, h, w), dtype=jnp.float32).flatten()\n",
    "output = mlp.mlp_forward(loaded_weights, x)\n",
    "output"
   ]
  },
  {
   "cell_type": "code",
   "execution_count": 41,
   "metadata": {},
   "outputs": [
    {
     "data": {
      "text/plain": [
       "1013654040"
      ]
     },
     "execution_count": 41,
     "metadata": {},
     "output_type": "execute_result"
    }
   ],
   "source": [
    "import struct\n",
    "\n",
    "float_value = 0.01435139\n",
    "\n",
    "byte_representation = struct.pack('f', float_value)\n",
    "integer_representation = struct.unpack('I', byte_representation)[0]\n",
    "integer_representation\n"
   ]
  },
  {
   "cell_type": "code",
   "execution_count": 42,
   "metadata": {},
   "outputs": [
    {
     "data": {
      "text/plain": [
       "0.014351390302181244"
      ]
     },
     "execution_count": 42,
     "metadata": {},
     "output_type": "execute_result"
    }
   ],
   "source": [
    "#now convert the integer back to float\n",
    "byte_representation = struct.pack('I', integer_representation)\n",
    "float_value = struct.unpack('f', byte_representation)[0]\n",
    "float_value"
   ]
  }
 ],
 "metadata": {
  "kernelspec": {
   "display_name": "jax",
   "language": "python",
   "name": "python3"
  },
  "language_info": {
   "codemirror_mode": {
    "name": "ipython",
    "version": 3
   },
   "file_extension": ".py",
   "mimetype": "text/x-python",
   "name": "python",
   "nbconvert_exporter": "python",
   "pygments_lexer": "ipython3",
   "version": "3.9.18"
  }
 },
 "nbformat": 4,
 "nbformat_minor": 2
}
