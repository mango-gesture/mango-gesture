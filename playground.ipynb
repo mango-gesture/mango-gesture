{
 "cells": [
  {
   "cell_type": "code",
   "execution_count": 1,
   "metadata": {},
   "outputs": [],
   "source": [
    "import jax\n",
    "import jax.numpy as jnp\n",
    "import inference.mlp as mlp"
   ]
  },
  {
   "cell_type": "code",
   "execution_count": 5,
   "metadata": {},
   "outputs": [],
   "source": [
    "c = 1\n",
    "h = 60\n",
    "w = 80\n",
    "sizes = [512, 256, 128]\n",
    "\n",
    "key = jax.random.PRNGKey(42)\n",
    "\n",
    "weights = mlp.qs_mlp(c, h, w, sizes, key, 1)"
   ]
  },
  {
   "cell_type": "code",
   "execution_count": 6,
   "metadata": {},
   "outputs": [],
   "source": [
    "mlp.mlp_serialize_binary(weights, 'weights/weights2.bin')"
   ]
  },
  {
   "cell_type": "code",
   "execution_count": 8,
   "metadata": {},
   "outputs": [
    {
     "name": "stdout",
     "output_type": "stream",
     "text": [
      "20320296\n"
     ]
    }
   ],
   "source": [
    "#tell me how big in bytes that file is in bytes\n",
    "import os\n",
    "print(os.path.getsize('weights/weights2.bin'))\n"
   ]
  }
 ],
 "metadata": {
  "kernelspec": {
   "display_name": "jax",
   "language": "python",
   "name": "python3"
  },
  "language_info": {
   "codemirror_mode": {
    "name": "ipython",
    "version": 3
   },
   "file_extension": ".py",
   "mimetype": "text/x-python",
   "name": "python",
   "nbconvert_exporter": "python",
   "pygments_lexer": "ipython3",
   "version": "3.9.18"
  }
 },
 "nbformat": 4,
 "nbformat_minor": 2
}
