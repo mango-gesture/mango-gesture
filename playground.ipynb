{
 "cells": [
  {
   "cell_type": "code",
   "execution_count": 1,
   "metadata": {},
   "outputs": [],
   "source": [
    "import jax\n",
    "import jax.numpy as jnp\n",
    "import inference.mlp as mlp"
   ]
  },
  {
   "cell_type": "code",
   "execution_count": 2,
   "metadata": {},
   "outputs": [
    {
     "name": "stderr",
     "output_type": "stream",
     "text": [
      "Platform 'METAL' is experimental and not all JAX functionality may be correctly supported!\n",
      "2024-05-18 21:43:36.048415: W pjrt_plugin/src/mps_client.cc:563] WARNING: JAX Apple GPU support is experimental and not all JAX functionality is correctly supported!\n"
     ]
    },
    {
     "name": "stdout",
     "output_type": "stream",
     "text": [
      "Metal device set to: Apple M2\n",
      "\n",
      "systemMemory: 24.00 GB\n",
      "maxCacheSize: 8.00 GB\n",
      "\n"
     ]
    }
   ],
   "source": [
    "c = 1\n",
    "h = 60\n",
    "w = 80\n",
    "sizes = [512, 256, 128]\n",
    "\n",
    "key = jax.random.PRNGKey(42)\n",
    "\n",
    "weights = mlp.qs_mlp(c, h, w, sizes, key, 1)"
   ]
  },
  {
   "cell_type": "code",
   "execution_count": 7,
   "metadata": {},
   "outputs": [],
   "source": [
    "import pickle\n",
    "\n",
    "# # Specify the file path\n",
    "# file_path = \"weights/weights_test.pkl\"\n",
    "\n",
    "# # Save the weights to the file\n",
    "# with open(file_path, \"wb\") as file:\n",
    "#     pickle.dump(weights, file)\n",
    "\n",
    "# # Load the weights from the file\n",
    "# with open(file_path, \"rb\") as file:\n",
    "#     loaded_weights = pickle.load(file)\n",
    "\n",
    "# # Check if the loaded weights are the same as the original weights\n",
    "# for i in range(len(weights)):\n",
    "#     for j in range(len(weights[i])):\n",
    "#         assert jnp.allclose(weights[i][j], loaded_weights[i][j])"
   ]
  },
  {
   "cell_type": "code",
   "execution_count": 8,
   "metadata": {},
   "outputs": [
    {
     "name": "stdout",
     "output_type": "stream",
     "text": [
      "20320296\n"
     ]
    }
   ],
   "source": [
    "# import os\n",
    "# mlp.mlp_serialize_binary(weights, 'weights/weights_test.bin')\n",
    "# print(os.path.getsize('weights/weights_test.bin'))\n"
   ]
  },
  {
   "cell_type": "code",
   "execution_count": 9,
   "metadata": {},
   "outputs": [
    {
     "name": "stdout",
     "output_type": "stream",
     "text": [
      "SHAPES (9600,) (9600, 512) (512,)\n",
      "SHAPES (512,) (512, 256) (256,)\n",
      "SHAPES (256,) (256, 128) (128,)\n",
      "SHAPES (128,) (128, 1) (1,)\n"
     ]
    }
   ],
   "source": [
    "with open('weights/weights_test.pkl', 'rb') as file:\n",
    "    loaded_weights = pickle.load(file)\n",
    "    \n",
    "x = jnp.ones((2, c, h, w), dtype=jnp.float32).flatten()\n",
    "output = mlp.mlp_forward(loaded_weights, x)\n"
   ]
  },
  {
   "cell_type": "code",
   "execution_count": 6,
   "metadata": {},
   "outputs": [
    {
     "data": {
      "text/plain": [
       "Array([0.70070374], dtype=float32)"
      ]
     },
     "execution_count": 6,
     "metadata": {},
     "output_type": "execute_result"
    }
   ],
   "source": [
    "output"
   ]
  }
 ],
 "metadata": {
  "kernelspec": {
   "display_name": "jax",
   "language": "python",
   "name": "python3"
  },
  "language_info": {
   "codemirror_mode": {
    "name": "ipython",
    "version": 3
   },
   "file_extension": ".py",
   "mimetype": "text/x-python",
   "name": "python",
   "nbconvert_exporter": "python",
   "pygments_lexer": "ipython3",
   "version": "3.9.18"
  }
 },
 "nbformat": 4,
 "nbformat_minor": 2
}
