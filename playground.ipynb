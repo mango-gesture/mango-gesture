{
 "cells": [
  {
   "cell_type": "code",
   "execution_count": 68,
   "metadata": {},
   "outputs": [],
   "source": [
    "import jax\n",
    "import jax.numpy as jnp\n",
    "import inference.mlp as mlp\n",
    "import subprocess\n",
    "import inference.dataset as ds\n",
    "import os\n",
    "import pickle"
   ]
  },
  {
   "cell_type": "code",
   "execution_count": 71,
   "metadata": {},
   "outputs": [
    {
     "ename": "TypeError",
     "evalue": "__init__() got an unexpected keyword argument 'output'",
     "output_type": "error",
     "traceback": [
      "\u001b[0;31m---------------------------------------------------------------------------\u001b[0m",
      "\u001b[0;31mTypeError\u001b[0m                                 Traceback (most recent call last)",
      "Cell \u001b[0;32mIn[71], line 7\u001b[0m\n\u001b[1;32m      4\u001b[0m sizes \u001b[38;5;241m=\u001b[39m [\u001b[38;5;241m512\u001b[39m, \u001b[38;5;241m256\u001b[39m]\n\u001b[1;32m      5\u001b[0m output \u001b[38;5;241m=\u001b[39m \u001b[38;5;241m3\u001b[39m\n\u001b[0;32m----> 7\u001b[0m cfg \u001b[38;5;241m=\u001b[39m \u001b[43mmlp\u001b[49m\u001b[38;5;241;43m.\u001b[39;49m\u001b[43mMLP_config\u001b[49m\u001b[43m(\u001b[49m\n\u001b[1;32m      8\u001b[0m \u001b[43m    \u001b[49m\u001b[43mc\u001b[49m\u001b[43m \u001b[49m\u001b[38;5;241;43m=\u001b[39;49m\u001b[43m \u001b[49m\u001b[43mc\u001b[49m\u001b[43m,\u001b[49m\u001b[43m \u001b[49m\n\u001b[1;32m      9\u001b[0m \u001b[43m    \u001b[49m\u001b[43mh\u001b[49m\u001b[43m \u001b[49m\u001b[38;5;241;43m=\u001b[39;49m\u001b[43m \u001b[49m\u001b[43mh\u001b[49m\u001b[43m,\u001b[49m\n\u001b[1;32m     10\u001b[0m \u001b[43m    \u001b[49m\u001b[43mw\u001b[49m\u001b[43m \u001b[49m\u001b[38;5;241;43m=\u001b[39;49m\u001b[43m \u001b[49m\u001b[43mw\u001b[49m\u001b[43m,\u001b[49m\n\u001b[1;32m     11\u001b[0m \u001b[43m    \u001b[49m\u001b[43msizes\u001b[49m\u001b[43m \u001b[49m\u001b[38;5;241;43m=\u001b[39;49m\u001b[43m \u001b[49m\u001b[43msizes\u001b[49m\u001b[43m,\u001b[49m\n\u001b[1;32m     12\u001b[0m \u001b[43m    \u001b[49m\u001b[43moutput\u001b[49m\u001b[43m \u001b[49m\u001b[38;5;241;43m=\u001b[39;49m\u001b[43m \u001b[49m\u001b[43moutput\u001b[49m\u001b[43m,\u001b[49m\n\u001b[1;32m     13\u001b[0m \u001b[43m    \u001b[49m\u001b[43mname\u001b[49m\u001b[43m \u001b[49m\u001b[38;5;241;43m=\u001b[39;49m\u001b[43m \u001b[49m\u001b[38;5;124;43m\"\u001b[39;49m\u001b[38;5;124;43mtest_mult_outputs\u001b[39;49m\u001b[38;5;124;43m\"\u001b[39;49m\n\u001b[1;32m     14\u001b[0m \u001b[43m)\u001b[49m\n\u001b[1;32m     16\u001b[0m mlp\u001b[38;5;241m.\u001b[39msave_cfg(cfg, \u001b[38;5;124m\"\u001b[39m\u001b[38;5;124mweights/\u001b[39m\u001b[38;5;124m\"\u001b[39m \u001b[38;5;241m+\u001b[39m cfg\u001b[38;5;241m.\u001b[39mname)\n\u001b[1;32m     18\u001b[0m key \u001b[38;5;241m=\u001b[39m jax\u001b[38;5;241m.\u001b[39mrandom\u001b[38;5;241m.\u001b[39mPRNGKey(\u001b[38;5;241m0\u001b[39m)\n",
      "\u001b[0;31mTypeError\u001b[0m: __init__() got an unexpected keyword argument 'output'"
     ]
    }
   ],
   "source": [
    "c = 1\n",
    "h = 30\n",
    "w = 40\n",
    "sizes = [512, 256]\n",
    "output = 3\n",
    "\n",
    "cfg = mlp.MLP_config(\n",
    "    c = c, \n",
    "    h = h,\n",
    "    w = w,\n",
    "    sizes = sizes,\n",
    "    output = output,\n",
    "    name = \"test_mult_outputs\"\n",
    ")\n",
    "\n",
    "mlp.save_cfg(cfg, \"weights/\" + cfg.name)\n",
    "\n",
    "key = jax.random.PRNGKey(0)\n",
    "\n",
    "weights = mlp.qs_mlp_rgb(cfg.c, cfg.h, cfg.w, cfg.sizes, key, cfg.output)"
   ]
  },
  {
   "cell_type": "code",
   "execution_count": 2,
   "metadata": {},
   "outputs": [
    {
     "name": "stderr",
     "output_type": "stream",
     "text": [
      "Platform 'METAL' is experimental and not all JAX functionality may be correctly supported!\n",
      "2024-06-01 11:49:59.404863: W pjrt_plugin/src/mps_client.cc:563] WARNING: JAX Apple GPU support is experimental and not all JAX functionality is correctly supported!\n"
     ]
    },
    {
     "name": "stdout",
     "output_type": "stream",
     "text": [
      "Metal device set to: Apple M2\n",
      "\n",
      "systemMemory: 24.00 GB\n",
      "maxCacheSize: 8.00 GB\n",
      "\n"
     ]
    }
   ],
   "source": [
    "import pickle\n",
    "\n",
    "# Specify the file path\n",
    "file_path = \"weights/256_256_128_54600.pkl\"\n",
    "\n",
    "\n",
    "cfg = mlp.read_cfg(\"weights/256_256_128.cfg\")\n",
    "key = jax.random.PRNGKey(0)\n",
    "weights = mlp.get_mlp_from_cfg(cfg, key)\n",
    "# Save the weights to the file\n",
    "with open(file_path, \"wb\") as file:\n",
    "    pickle.dump(weights, file)\n",
    "\n",
    "# Load the weights from the file\n",
    "with open(file_path, \"rb\") as file:\n",
    "    loaded_weights = pickle.load(file)\n",
    "\n",
    "# Check if the loaded weights are the same as the original weights\n",
    "for i in range(len(weights)):\n",
    "    for j in range(len(weights[i])):\n",
    "        assert jnp.allclose(weights[i][j], loaded_weights[i][j])"
   ]
  },
  {
   "cell_type": "code",
   "execution_count": 73,
   "metadata": {},
   "outputs": [
    {
     "name": "stdout",
     "output_type": "stream",
     "text": [
      "4773924\n"
     ]
    }
   ],
   "source": [
    "import os\n",
    "file_path = \"weights/2_layer.bin\"\n",
    "mlp.mlp_serialize_binary(loaded_weights, file_path)\n",
    "print(os.path.getsize(file_path))\n"
   ]
  },
  {
   "cell_type": "code",
   "execution_count": 76,
   "metadata": {},
   "outputs": [
    {
     "ename": "AttributeError",
     "evalue": "'list' object has no attribute 'shape'",
     "output_type": "error",
     "traceback": [
      "\u001b[0;31m---------------------------------------------------------------------------\u001b[0m",
      "\u001b[0;31mAttributeError\u001b[0m                            Traceback (most recent call last)",
      "Cell \u001b[0;32mIn[76], line 2\u001b[0m\n\u001b[1;32m      1\u001b[0m weights \u001b[38;5;241m=\u001b[39m [w \u001b[38;5;28;01mfor\u001b[39;00m w, _ \u001b[38;5;129;01min\u001b[39;00m loaded_weights]\n\u001b[0;32m----> 2\u001b[0m \u001b[43mloaded_weights\u001b[49m\u001b[38;5;241;43m.\u001b[39;49m\u001b[43mshape\u001b[49m\n",
      "\u001b[0;31mAttributeError\u001b[0m: 'list' object has no attribute 'shape'"
     ]
    }
   ],
   "source": [
    "weights = [w for w, _ in loaded_weights]\n",
    "loaded_weights"
   ]
  },
  {
   "cell_type": "code",
   "execution_count": 5,
   "metadata": {},
   "outputs": [
    {
     "ename": "AssertionError",
     "evalue": "ArithmeticError: b'h' != b'='",
     "output_type": "error",
     "traceback": [
      "\u001b[0;31m---------------------------------------------------------------------------\u001b[0m",
      "\u001b[0;31mAssertionError\u001b[0m                            Traceback (most recent call last)",
      "Cell \u001b[0;32mIn[5], line 9\u001b[0m\n\u001b[1;32m      7\u001b[0m byte2 \u001b[38;5;241m=\u001b[39m file2\u001b[38;5;241m.\u001b[39mread(\u001b[38;5;241m1\u001b[39m)\n\u001b[1;32m      8\u001b[0m \u001b[38;5;28;01mwhile\u001b[39;00m byte:\n\u001b[0;32m----> 9\u001b[0m     \u001b[38;5;28;01massert\u001b[39;00m byte \u001b[38;5;241m==\u001b[39m byte2, \u001b[38;5;124mf\u001b[39m\u001b[38;5;124m\"\u001b[39m\u001b[38;5;124mArithmeticError: \u001b[39m\u001b[38;5;132;01m{\u001b[39;00mbyte\u001b[38;5;132;01m}\u001b[39;00m\u001b[38;5;124m != \u001b[39m\u001b[38;5;132;01m{\u001b[39;00mbyte2\u001b[38;5;132;01m}\u001b[39;00m\u001b[38;5;124m\"\u001b[39m\n\u001b[1;32m     10\u001b[0m     byte \u001b[38;5;241m=\u001b[39m file\u001b[38;5;241m.\u001b[39mread(\u001b[38;5;241m1\u001b[39m)\n\u001b[1;32m     11\u001b[0m     byte2 \u001b[38;5;241m=\u001b[39m file2\u001b[38;5;241m.\u001b[39mread(\u001b[38;5;241m1\u001b[39m)\n",
      "\u001b[0;31mAssertionError\u001b[0m: ArithmeticError: b'h' != b'='"
     ]
    }
   ],
   "source": [
    "#ensure file_path and \"256_256_128_54600.bin\" are the same\n",
    "assert os.path.getsize(file_path) == os.path.getsize(\"weights/256_256_128_54600.bin\")\n",
    "#check each byte\n",
    "with open(file_path, \"rb\") as file:\n",
    "    with open(\"weights/256_256_128_54600.bin\", \"rb\") as file2:\n",
    "        byte = file.read(1)\n",
    "        byte2 = file2.read(1)\n",
    "        while byte:\n",
    "            assert byte == byte2, f\"ArithmeticError: {byte} != {byte2}\"\n",
    "            byte = file.read(1)\n",
    "            byte2 = file2.read(1)"
   ]
  },
  {
   "cell_type": "code",
   "execution_count": 72,
   "metadata": {},
   "outputs": [],
   "source": [
    "with open('weights/256_256_50.pkl', 'rb') as file:\n",
    "    loaded_weights = pickle.load(file)\n"
   ]
  },
  {
   "cell_type": "code",
   "execution_count": 70,
   "metadata": {},
   "outputs": [
    {
     "data": {
      "text/plain": [
       "(Array([0.00558617, 0.01505997], dtype=float32), 1001851955)"
      ]
     },
     "execution_count": 70,
     "metadata": {},
     "output_type": "execute_result"
    }
   ],
   "source": [
    "x = jnp.zeros((2, 2201), dtype=jnp.float32).flatten()\n",
    "output = mlp.mlp_forward(loaded_weights, x)\n",
    "output, float_to_int(output[0])"
   ]
  },
  {
   "cell_type": "code",
   "execution_count": 54,
   "metadata": {},
   "outputs": [],
   "source": [
    "import struct \n",
    "\n",
    "def float_to_int(float_value, signed = False):\n",
    "    byte_representation = struct.pack('f', float_value)\n",
    "    integer_representation = struct.unpack('I', byte_representation)[0] if not signed else struct.unpack('i', byte_representation)[0]\n",
    "    return integer_representation\n",
    "\n",
    "def int_to_float(int_value):\n",
    "    byte_representation = struct.pack('I', int_value)\n",
    "    float_representation = struct.unpack('f', byte_representation)[0] \n",
    "    return float_representation"
   ]
  },
  {
   "cell_type": "code",
   "execution_count": 113,
   "metadata": {},
   "outputs": [
    {
     "data": {
      "text/plain": [
       "1033174822"
      ]
     },
     "execution_count": 113,
     "metadata": {},
     "output_type": "execute_result"
    }
   ],
   "source": [
    "import struct\n",
    "\n",
    "float_value = output[0]\n",
    "\n",
    "byte_representation = struct.pack('f', float_value)\n",
    "integer_representation = struct.unpack('I', byte_representation)[0]\n",
    "integer_representation\n"
   ]
  },
  {
   "cell_type": "code",
   "execution_count": 61,
   "metadata": {},
   "outputs": [
    {
     "name": "stdout",
     "output_type": "stream",
     "text": [
      "1096437863\n",
      "0\n",
      "1084454968\n"
     ]
    },
    {
     "data": {
      "text/plain": [
       "Array([13.6446295,  0.       ,  5.108425 ], dtype=float32)"
      ]
     },
     "execution_count": 61,
     "metadata": {},
     "output_type": "execute_result"
    }
   ],
   "source": [
    "i = 2\n",
    "img1 = jnp.array(ds.load_jpeg_image(f\"debug_data/{i}.jpeg\", 2201))\n",
    "img2 = jnp.array(ds.load_jpeg_image(f\"debug_data/{i+1}.jpeg\", 2201))\n",
    "data = jnp.concatenate([img1.flatten(), img2.flatten()])\n",
    "output = mlp.mlp_forward(loaded_weights, data)\n",
    "for o in output:\n",
    "    print(float_to_int(o))\n",
    "output"
   ]
  },
  {
   "cell_type": "code",
   "execution_count": 67,
   "metadata": {},
   "outputs": [
    {
     "name": "stdout",
     "output_type": "stream",
     "text": [
      "-1087262286\n"
     ]
    },
    {
     "data": {
      "text/plain": [
       "(None, 689)"
      ]
     },
     "execution_count": 67,
     "metadata": {},
     "output_type": "execute_result"
    }
   ],
   "source": [
    "# for i in img1[:10]:\n",
    "#     print(float_to_int(i, signed=True))\n",
    "\n",
    "#print a random i in img1\n",
    "import random\n",
    "i = random.randint(0, len(img1))\n",
    "print(float_to_int(img1[i], signed=True)), i"
   ]
  },
  {
   "cell_type": "code",
   "execution_count": 20,
   "metadata": {},
   "outputs": [
    {
     "data": {
      "text/plain": [
       "19.568416595458984"
      ]
     },
     "execution_count": 20,
     "metadata": {},
     "output_type": "execute_result"
    }
   ],
   "source": [
    "int_to_float(1100778526)"
   ]
  },
  {
   "cell_type": "code",
   "execution_count": 114,
   "metadata": {},
   "outputs": [
    {
     "data": {
      "text/plain": [
       "0.07275228202342987"
      ]
     },
     "execution_count": 114,
     "metadata": {},
     "output_type": "execute_result"
    }
   ],
   "source": [
    "#now convert the integer back to float\n",
    "byte_representation = struct.pack('I', integer_representation)\n",
    "float_value = struct.unpack('f', byte_representation)[0]\n",
    "float_value"
   ]
  },
  {
   "cell_type": "code",
   "execution_count": 7,
   "metadata": {},
   "outputs": [],
   "source": [
    "data_path = \"test_data/\""
   ]
  },
  {
   "cell_type": "code",
   "execution_count": 8,
   "metadata": {},
   "outputs": [
    {
     "data": {
      "image/png": "[encoded data removed]",
      "text/plain": [
       "<Figure size 640x480 with 1 Axes>"
      ]
     },
     "metadata": {},
     "output_type": "display_data"
    }
   ],
   "source": [
    "import os\n",
    "import matplotlib.pyplot as plt\n",
    "\n",
    "# Initialize an empty list to store the file sizes\n",
    "file_sizes = []\n",
    "class_file_sizes = [[], [], []]\n",
    "\n",
    "# Iterate over the directories\n",
    "for class_num in (0, 1, 2):\n",
    "    class_dir = os.path.join(data_path, str(class_num))\n",
    "    \n",
    "    # Iterate over the files in the directory\n",
    "    for file_name in os.listdir(class_dir):\n",
    "        file_path = os.path.join(class_dir, file_name)\n",
    "        file_size = os.path.getsize(file_path)\n",
    "        file_sizes.append(file_size)\n",
    "        class_file_sizes[class_num].append(file_size)\n",
    "\n",
    "# Plot the histogram of file sizes\n",
    "plt.hist(file_sizes, bins=10)\n",
    "plt.xlabel('File Size')\n",
    "plt.ylabel('Frequency')\n",
    "plt.title('Histogram of File Sizes')\n",
    "plt.show()"
   ]
  },
  {
   "cell_type": "code",
   "execution_count": 9,
   "metadata": {},
   "outputs": [],
   "source": [
    "def calculate_percentage(size):\n",
    "    class_counts = {class_num: 0 for class_num in (0, 1, 2)}\n",
    "    for class_num in (0, 1, 2):\n",
    "        for file_size in class_file_sizes[class_num]:\n",
    "            if file_size <= size:\n",
    "                class_counts[class_num] += 1\n",
    "    return {class_num: count / len(class_file_sizes[class_num]) for class_num, count in class_counts.items()}"
   ]
  },
  {
   "cell_type": "code",
   "execution_count": 12,
   "metadata": {},
   "outputs": [
    {
     "data": {
      "text/plain": [
       "{0: 0.952023988005997, 1: 0.9995002498750625, 2: 0.9995002498750625}"
      ]
     },
     "execution_count": 12,
     "metadata": {},
     "output_type": "execute_result"
    }
   ],
   "source": [
    "calculate_percentage(2200)"
   ]
  },
  {
   "cell_type": "code",
   "execution_count": 22,
   "metadata": {},
   "outputs": [
    {
     "name": "stdout",
     "output_type": "stream",
     "text": [
      "Folder test_data/0 has an odd number of files\n",
      "Files test_data/0/output2000.jpg and test_data/0/output2001.jpg not found\n",
      "Folder test_data/1 has an odd number of files\n",
      "Files test_data/1/output2000.jpg and test_data/1/output2001.jpg not found\n",
      "Folder test_data/2 has an odd number of files\n",
      "Files test_data/2/output2000.jpg and test_data/2/output2001.jpg not found\n",
      "Dataset has 2932 samples\n",
      "Dataset has 3 classes\n",
      "Class 0 has 932 samples\n",
      "Class 1 has 1000 samples\n",
      "Class 2 has 1000 samples\n"
     ]
    }
   ],
   "source": [
    "from inference.dataset import get_jpeg_dataset\n",
    "from torch.utils.data import DataLoader\n",
    "dataset = get_jpeg_dataset(data_path, 3, 2201)\n",
    "dataloader = DataLoader(dataset, batch_size=4, shuffle=True)"
   ]
  },
  {
   "cell_type": "code",
   "execution_count": 49,
   "metadata": {},
   "outputs": [
    {
     "name": "stdout",
     "output_type": "stream",
     "text": [
      "tensor([1, 1, 1, 2])\n",
      "[1 1 1 2]\n"
     ]
    },
    {
     "data": {
      "text/plain": [
       "Array([[ 0.      , 16.75191 ,  0.      ],\n",
       "       [ 0.      , 18.541775,  0.      ],\n",
       "       [ 0.      , 26.463055,  0.      ],\n",
       "       [ 0.      ,  0.      , 19.234692]], dtype=float32)"
      ]
     },
     "execution_count": 49,
     "metadata": {},
     "output_type": "execute_result"
    }
   ],
   "source": [
    "# get a batch of data\n",
    "x, y = next(iter(dataloader))\n",
    "x = jnp.array(x)\n",
    "print(y)\n",
    "print(jnp.argmax(mlp.batch_mlp_forward(loaded_weights, x), axis=1))\n",
    "mlp.batch_mlp_forward(loaded_weights, x)"
   ]
  }
 ],
 "metadata": {
  "kernelspec": {
   "display_name": "jax",
   "language": "python",
   "name": "python3"
  },
  "language_info": {
   "codemirror_mode": {
    "name": "ipython",
    "version": 3
   },
   "file_extension": ".py",
   "mimetype": "text/x-python",
   "name": "python",
   "nbconvert_exporter": "python",
   "pygments_lexer": "ipython3",
   "version": "3.9.18"
  }
 },
 "nbformat": 4,
 "nbformat_minor": 2
}
